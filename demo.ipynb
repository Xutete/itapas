{
 "cells": [
  {
   "cell_type": "code",
   "execution_count": 1,
   "metadata": {},
   "outputs": [
    {
     "name": "stderr",
     "output_type": "stream",
     "text": [
      "/usr/local/lib/python3.7/site-packages/graph_tool/draw/cairo_draw.py:39: RuntimeWarning: Error importing cairo. Graph drawing will not work.\n",
      "  warnings.warn(msg, RuntimeWarning)\n",
      "/usr/local/lib/python3.7/site-packages/graph_tool/draw/cairo_draw.py:39: RuntimeWarning: Error importing cairo. Graph drawing will not work.\n",
      "  warnings.warn(msg, RuntimeWarning)\n",
      "/usr/local/lib/python3.7/site-packages/graph_tool/draw/cairo_draw.py:39: RuntimeWarning: Error importing cairo. Graph drawing will not work.\n",
      "  warnings.warn(msg, RuntimeWarning)\n",
      "/usr/local/lib/python3.7/site-packages/graph_tool/all.py:40: RuntimeWarning: Error importing draw module, proceeding nevertheless: No module named 'cairo._cairo'\n",
      "  warnings.warn(msg, RuntimeWarning)\n"
     ]
    }
   ],
   "source": [
    "import numpy as np\n",
    "import time\n",
    "import sys\n",
    "sys.path.append('/usr/local/lib/python3.7/site-packages')\n",
    "import graph_tool.all as gt\n",
    "from itapas import ITAPAS"
   ]
  },
  {
   "cell_type": "code",
   "execution_count": 2,
   "metadata": {},
   "outputs": [],
   "source": [
    "# link cost functions\n",
    "def sys_cost_func(x,param):\n",
    "    return (param[0] * x + param[1] * (x ** 5),\n",
    "            param[0] + 5 * param[1] * (x ** 4),\n",
    "            20 * param[1] * (x ** 3))\n",
    "\n",
    "def user_cost_func(x,param):\n",
    "    return (param[0] * x + 0.2 * param[1] * (x ** 5),\n",
    "            param[0] + param[1] * (x ** 4),\n",
    "            4 * param[1] * (x ** 3))\n",
    "\n",
    "# read & process input\n",
    "# network format: ID, origin node, destination node, param0, param1, background flow\n",
    "network = np.loadtxt('data/network.csv',delimiter=',',dtype=None)\n",
    "# initiate network information\n",
    "link_graph = gt.Graph()\n",
    "link_graph.add_edge_list(network[:,[1,2]].astype(int))\n",
    "link_param0 = link_graph.new_edge_property(\"float\")\n",
    "link_param1 = link_graph.new_edge_property(\"float\")\n",
    "link_background = link_graph.new_edge_property(\"float\")\n",
    "link_param0.a = network[:,3]\n",
    "link_param1.a = network[:,4]\n",
    "link_background.a = network[:,5]\n",
    "# link_background.a = 0\n",
    "link_param = [link_param0,link_param1] # param for link cost functions\n",
    "\n",
    "# od format: ID, home node, work node\n",
    "ods = np.loadtxt('data/ods.csv',delimiter=',',dtype=int)\n",
    "# initiate node list\n",
    "node_list = set()\n",
    "for od in ods:\n",
    "    node_list.update([od[1],od[2]])\n",
    "node_list = list(node_list)\n",
    "\n",
    "# initiate assignment model\n",
    "assign_model = ITAPAS(link_graph,link_param,\n",
    "                    link_background,link_cost_func=user_cost_func,ori_list=node_list)\n",
    "\n",
    "# initiate demand\n",
    "scale = 10\n",
    "demand = dict()\n",
    "for od in ods:\n",
    "    if od[1] != od[2]:\n",
    "        demand[(od[1],od[2])] = demand.get((od[1],od[2]),0) + scale"
   ]
  },
  {
   "cell_type": "code",
   "execution_count": 3,
   "metadata": {
    "scrolled": true
   },
   "outputs": [
    {
     "name": "stdout",
     "output_type": "stream",
     "text": [
      "ITAPAS: Initial duality gap = 1588.  Elapsed time = 11.19.\n",
      "ITAPAS: Iteration 0 finished. PAS size = 48. Duality gap = 553. Elapsed time = 39.38.\n",
      "ITAPAS: Iteration 1 finished. PAS size = 48. Duality gap = 414. Elapsed time = 58.17.\n",
      "ITAPAS: Iteration 2 finished. PAS size = 47. Duality gap = 339. Elapsed time = 72.78.\n",
      "ITAPAS: Iteration 3 finished. PAS size = 46. Duality gap = 276. Elapsed time = 86.90.\n",
      "ITAPAS: Iteration 4 finished. PAS size = 46. Duality gap = 224. Elapsed time = 99.85.\n",
      "ITAPAS: Iteration 5 finished. PAS size = 45. Duality gap = 181. Elapsed time = 113.35.\n",
      "ITAPAS: Iteration 6 finished. PAS size = 43. Duality gap = 154. Elapsed time = 125.70.\n",
      "ITAPAS: Iteration 7 finished. PAS size = 43. Duality gap = 131. Elapsed time = 138.32.\n",
      "ITAPAS: Iteration 8 finished. PAS size = 43. Duality gap = 112. Elapsed time = 150.51.\n",
      "ITAPAS: Iteration 9 finished. PAS size = 43. Duality gap = 97. Elapsed time = 163.27.\n",
      "ITAPAS: Iteration 10 finished. PAS size = 43. Duality gap = 79. Elapsed time = 174.95.\n",
      "ITAPAS: Iteration 11 finished. PAS size = 42. Duality gap = 66. Elapsed time = 188.29.\n",
      "ITAPAS: Iteration 12 finished. PAS size = 42. Duality gap = 54. Elapsed time = 198.82.\n",
      "ITAPAS: Iteration 13 finished. PAS size = 42. Duality gap = 43. Elapsed time = 211.09.\n",
      "ITAPAS: Iteration 14 finished. PAS size = 42. Duality gap = 33. Elapsed time = 222.57.\n",
      "ITAPAS: Iteration 15 finished. PAS size = 42. Duality gap = 21. Elapsed time = 234.70.\n",
      "ITAPAS: Iteration 16 finished. PAS size = 41. Duality gap = 15. Elapsed time = 245.80.\n",
      "ITAPAS: Iteration 17 finished. PAS size = 41. Duality gap = 11. Elapsed time = 258.56.\n",
      "ITAPAS: Iteration 18 finished. PAS size = 40. Duality gap = 7. Elapsed time = 271.76.\n",
      "ITAPAS: Iteration 19 finished. PAS size = 41. Duality gap = 5. Elapsed time = 284.69.\n",
      "ITAPAS: Iteration 20 finished. PAS size = 41. Duality gap = 5. Elapsed time = 296.87.\n"
     ]
    }
   ],
   "source": [
    "# do assignment\n",
    "itapas_params = {'epsilon':1e-12,'theta':1e-12,'mu':1e-3,'nu':0.5,\n",
    "                 'time':1200,'iter':20,'out_flag':True}\n",
    "itapas_params['dg'] = np.sum(list(demand.values())) * 1e-5\n",
    "link_flow,link_flow_node = assign_model.assign(demand,params=itapas_params)"
   ]
  },
  {
   "cell_type": "code",
   "execution_count": null,
   "metadata": {},
   "outputs": [],
   "source": []
  }
 ],
 "metadata": {
  "kernelspec": {
   "display_name": "Python 3",
   "language": "python",
   "name": "python3"
  },
  "language_info": {
   "codemirror_mode": {
    "name": "ipython",
    "version": 3
   },
   "file_extension": ".py",
   "mimetype": "text/x-python",
   "name": "python",
   "nbconvert_exporter": "python",
   "pygments_lexer": "ipython3",
   "version": "3.6.4"
  },
  "varInspector": {
   "cols": {
    "lenName": 16,
    "lenType": 16,
    "lenVar": 40
   },
   "kernels_config": {
    "python": {
     "delete_cmd_postfix": "",
     "delete_cmd_prefix": "del ",
     "library": "var_list.py",
     "varRefreshCmd": "print(var_dic_list())"
    },
    "r": {
     "delete_cmd_postfix": ") ",
     "delete_cmd_prefix": "rm(",
     "library": "var_list.r",
     "varRefreshCmd": "cat(var_dic_list()) "
    }
   },
   "types_to_exclude": [
    "module",
    "function",
    "builtin_function_or_method",
    "instance",
    "_Feature"
   ],
   "window_display": false
  }
 },
 "nbformat": 4,
 "nbformat_minor": 2
}
